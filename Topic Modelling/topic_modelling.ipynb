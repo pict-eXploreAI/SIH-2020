{
  "nbformat": 4,
  "nbformat_minor": 0,
  "metadata": {
    "colab": {
      "name": "topic_modelling.ipynb",
      "provenance": [],
      "collapsed_sections": []
    },
    "kernelspec": {
      "name": "python3",
      "display_name": "Python 3"
    }
  },
  "cells": [
    {
      "cell_type": "code",
      "metadata": {
        "id": "wa6xiC49nLyB",
        "colab_type": "code",
        "colab": {
          "base_uri": "https://localhost:8080/",
          "height": 89
        },
        "outputId": "a34a756a-a5c3-4dd0-9c24-6e986b2e4404"
      },
      "source": [
        "import numpy as np\n",
        "import scipy.sparse as ss\n",
        "import matplotlib.pyplot as plt\n",
        "\n",
        "%pip install corextopic\n",
        "\n",
        "from corextopic import corextopic as ct\n",
        "from corextopic import vis_topic as vt \n",
        "\n",
        "from sklearn.datasets import fetch_20newsgroups\n",
        "from sklearn.feature_extraction.text import CountVectorizer\n",
        "\n",
        "%matplotlib inline\n"
      ],
      "execution_count": 1,
      "outputs": [
        {
          "output_type": "stream",
          "text": [
            "Requirement already satisfied: corextopic in /usr/local/lib/python3.6/dist-packages (1.0.5)\n"
          ],
          "name": "stdout"
        },
        {
          "output_type": "stream",
          "text": [
            "/usr/local/lib/python3.6/dist-packages/sklearn/externals/joblib/__init__.py:15: DeprecationWarning: sklearn.externals.joblib is deprecated in 0.21 and will be removed in 0.23. Please import this functionality directly from joblib, which can be installed with: pip install joblib. If this warning is raised when loading pickled models, you may need to re-serialize those models with scikit-learn 0.21+.\n",
            "  warnings.warn(msg, category=DeprecationWarning)\n"
          ],
          "name": "stderr"
        }
      ]
    },
    {
      "cell_type": "markdown",
      "metadata": {
        "id": "QKjsLZMWGsq3",
        "colab_type": "text"
      },
      "source": [
        "LOAD DATASET HERE "
      ]
    },
    {
      "cell_type": "code",
      "metadata": {
        "id": "hPFmjkMvEiDf",
        "colab_type": "code",
        "colab": {}
      },
      "source": [
        "newsgroups = fetch_20newsgroups(subset='train', remove=('headers', 'footers', 'quotes'))\n"
      ],
      "execution_count": 0,
      "outputs": []
    },
    {
      "cell_type": "markdown",
      "metadata": {
        "id": "ZAABufBuHU0E",
        "colab_type": "text"
      },
      "source": [
        "// THE ROWS ARE DOCUMENTS AND THE COLUMNS ARE COUNT. VECTORINZING(SPARSE)\n",
        "\n",
        "// ENGLISH SET OF STOP WORDS\n",
        "\n",
        "// 20,000 WORDS FROM EVERY DOCUMENT"
      ]
    },
    {
      "cell_type": "code",
      "metadata": {
        "id": "J5f31RNgFdPX",
        "colab_type": "code",
        "colab": {
          "base_uri": "https://localhost:8080/",
          "height": 34
        },
        "outputId": "994dcb14-c0f4-43ec-c1ec-66eb04dab434"
      },
      "source": [
        "vectorizer = CountVectorizer(stop_words='english', max_features=20000, binary=True)\n",
        "doc_word = vectorizer.fit_transform(newsgroups.data)\n",
        "doc_word = ss.csr_matrix(doc_word)\n",
        "\n",
        "doc_word.shape # DOCUMENTS x WORDS"
      ],
      "execution_count": 3,
      "outputs": [
        {
          "output_type": "execute_result",
          "data": {
            "text/plain": [
              "(11314, 20000)"
            ]
          },
          "metadata": {
            "tags": []
          },
          "execution_count": 3
        }
      ]
    },
    {
      "cell_type": "code",
      "metadata": {
        "id": "hiWlZ3IGFc3w",
        "colab_type": "code",
        "colab": {
          "base_uri": "https://localhost:8080/",
          "height": 34
        },
        "outputId": "d93df868-6696-4bda-a6fe-db6d1797e2e5"
      },
      "source": [
        "words = list(np.asarray(vectorizer.get_feature_names()))\n",
        "not_digit_inds = [ind for ind,word in enumerate(words) if not word.isdigit()]\n",
        "doc_word = doc_word[:,not_digit_inds]\n",
        "words    = [word for ind,word in enumerate(words) if not word.isdigit()]\n",
        "\n",
        "doc_word.shape # DOCUMENT x WORDS\n"
      ],
      "execution_count": 4,
      "outputs": [
        {
          "output_type": "execute_result",
          "data": {
            "text/plain": [
              "(11314, 19038)"
            ]
          },
          "metadata": {
            "tags": []
          },
          "execution_count": 4
        }
      ]
    },
    {
      "cell_type": "markdown",
      "metadata": {
        "id": "9xjHxVMoIsEK",
        "colab_type": "text"
      },
      "source": [
        "TRAINING A MODEL WITH 50 TOPICS"
      ]
    },
    {
      "cell_type": "code",
      "metadata": {
        "id": "234wBul4E8t7",
        "colab_type": "code",
        "colab": {}
      },
      "source": [
        "topic_model = ct.Corex(n_hidden=50, words=words, max_iter=200, verbose=False, seed=1)\n",
        "topic_model.fit(doc_word, words=words);"
      ],
      "execution_count": 0,
      "outputs": []
    },
    {
      "cell_type": "markdown",
      "metadata": {
        "id": "yK-eNNGwtWoh",
        "colab_type": "text"
      },
      "source": [
        "PRINTING WORDS IN ONE TOPIC"
      ]
    },
    {
      "cell_type": "code",
      "metadata": {
        "id": "T-vFG2v_FppK",
        "colab_type": "code",
        "colab": {
          "base_uri": "https://localhost:8080/",
          "height": 104
        },
        "outputId": "45c0b41e-75e8-480c-b8f7-4d9e19300d4c"
      },
      "source": [
        "topic_model.get_topics(topic=1, n_words=5)"
      ],
      "execution_count": 6,
      "outputs": [
        {
          "output_type": "execute_result",
          "data": {
            "text/plain": [
              "[('team', 0.07605118792666486),\n",
              " ('game', 0.06666754127977209),\n",
              " ('season', 0.04887993842511198),\n",
              " ('players', 0.04734426771432984),\n",
              " ('league', 0.043708887912550405)]"
            ]
          },
          "metadata": {
            "tags": []
          },
          "execution_count": 6
        }
      ]
    },
    {
      "cell_type": "markdown",
      "metadata": {
        "id": "T8PFb9aXtk1V",
        "colab_type": "text"
      },
      "source": [
        "PRINT ALL WORDS IN ALL TOPICS"
      ]
    },
    {
      "cell_type": "code",
      "metadata": {
        "id": "qsIXKg3StGAb",
        "colab_type": "code",
        "colab": {
          "base_uri": "https://localhost:8080/",
          "height": 885
        },
        "outputId": "36c38709-8e61-45bb-ccc5-c42615658bb8"
      },
      "source": [
        "topics = topic_model.get_topics()\n",
        "for n,topic in enumerate(topics):\n",
        "    topic_words,_ = zip(*topic)\n",
        "    print('{}: '.format(n) + ','.join(topic_words))"
      ],
      "execution_count": 7,
      "outputs": [
        {
          "output_type": "stream",
          "text": [
            "0: dsl,n3jxp,chastity,cadre,geb,shameful,intellect,skepticism,banks,pitt\n",
            "1: team,game,season,players,league,play,hockey,games,teams,nhl\n",
            "2: government,law,public,rights,state,encryption,clipper,federal,security,secure\n",
            "3: god,jesus,bible,christians,christian,christ,religion,jews,church,faith\n",
            "4: people,say,fact,point,believe,person,saying,world,reason,mean\n",
            "5: armenians,armenian,national,international,argic,press,policy,serdar,soviet,armenia\n",
            "6: file,program,window,directory,ftp,pub,server,application,unix,available\n",
            "7: based,issue,sense,clear,truth,subject,certain,known,particular,existence\n",
            "8: cs,ma,au,gmt,cc,uu,id,sites,fi,host\n",
            "9: windows,software,card,thanks,pc,dos,files,disk,advance,ram\n",
            "10: drive,sale,scsi,controller,board,shipping,ide,drives,cd,bus\n",
            "11: pitching,hit,staff,braves,runs,hitter,nl,smith,hr,baltimore\n",
            "12: just,don,like,time,going,right,better,let,come,didn\n",
            "13: archive,various,document,related,addition,modified,published,contents,complete,distributed\n",
            "14: information,internet,university,systems,send,following,address,phone,contact,computer\n",
            "15: year,april,san,york,los,washington,north,angeles,city,california\n",
            "16: war,country,children,killed,military,population,society,live,soldiers,anti\n",
            "17: space,nasa,orbit,earth,moon,launch,shuttle,lunar,mission,flight\n",
            "18: life,sin,words,mind,spirit,born,father,follow,accept,son\n",
            "19: pp,special,van,berkeley,journal,ai,mark,mu,la,vol\n",
            "20: years,away,later,left,came,days,old,ago,took,gave\n",
            "21: disease,medical,doctor,patients,food,cause,treatment,medicine,blood,health\n",
            "22: provide,questions,provides,developed,specific,development,standard,require,appropriate,commercial\n",
            "23: given,number,note,end,present,taken,according,purpose,numbers,major\n",
            "24: key,keys,data,algorithm,details,des,process,contains,users,provided\n",
            "25: members,turkish,involved,army,organizations,troops,received,organization,land,fighting\n",
            "26: read,different,example,does,word,having,groups,written,book,try\n",
            "27: united,states,american,force,individual,independent,arms,community,nation,forces\n",
            "28: death,human,said,evidence,crime,self,kill,lives,murder,killing\n",
            "29: new,including,sent,single,department,short,news,ii,school,placed\n",
            "30: use,using,work,used,need,run,problems,line,help,type\n",
            "31: large,small,control,needed,outside,local,light,parts,useful,ground\n",
            "32: general,important,far,course,non,times,actually,consider,likely,result\n",
            "33: think,way,good,things,really,know,did,thing,ve,probably\n",
            "34: problem,set,place,called,change,trying,return,open,support,instead\n",
            "35: man,history,today,women,went,told,coming,happened,stand,knew\n",
            "36: second,john,period,1st,2nd,3rd,points,goal,ed,followed\n",
            "37: bike,ride,engine,riding,dod,bikes,miles,motorcycle,rear,honda\n",
            "38: drivers,mode,mb,faster,interface,os,driver,hp,color,fast\n",
            "39: gun,guns,weapons,firearms,defense,weapon,batf,armed,assault,shooting\n",
            "40: high,power,low,current,model,al,lower,higher,series,average\n",
            "41: ways,dr,break,passed,kinds,reach,mass,larry,content,stands\n",
            "42: wide,included,volume,remote,bit,pages,notes,fully,fields,operations\n",
            "43: long,day,especially,situation,rest,body,century,ones,family,worse\n",
            "44: make,want,real,case,possible,order,quite,free,able,ask\n",
            "45: car,money,cars,pay,tax,road,deal,insurance,worth,dollars\n",
            "46: drug,certainly,considered,taking,effective,expect,generally,social,child,purposes\n",
            "47: necessary,strong,prevent,required,plan,safe,carefully,attention,aside,unique\n",
            "48: little,wants,takes,comes,lead,trouble,looks,pass,capable,unfortunately\n",
            "49: bring,brought,happy,charge,smart,improve,shows,england,cast,belong\n"
          ],
          "name": "stdout"
        }
      ]
    },
    {
      "cell_type": "markdown",
      "metadata": {
        "id": "dw9aTqvUuAIq",
        "colab_type": "text"
      },
      "source": [
        "TOTAL CORRELATION SHOULD BE MAX; DONE BY COREX; RUN THE ALGORITHM MULTIPLE TIMES AND STORE THE ONE WITH THE MAXIMUM TC"
      ]
    },
    {
      "cell_type": "code",
      "metadata": {
        "id": "iswmweF8uQpr",
        "colab_type": "code",
        "colab": {
          "base_uri": "https://localhost:8080/",
          "height": 34
        },
        "outputId": "4f734b4e-047d-4b84-a8d4-dc35cadd503a"
      },
      "source": [
        "topic_model.tc"
      ],
      "execution_count": 8,
      "outputs": [
        {
          "output_type": "execute_result",
          "data": {
            "text/plain": [
              "44.547808454659226"
            ]
          },
          "metadata": {
            "tags": []
          },
          "execution_count": 8
        }
      ]
    },
    {
      "cell_type": "markdown",
      "metadata": {
        "id": "gidiDzQnxtBz",
        "colab_type": "text"
      },
      "source": [
        "// TO GET MORE CONCENTRATED WORDS I COULD ADD ONE MORE COREX MODEL WHICH TAKES THESE TOPICS AND WORDS AS INPUT"
      ]
    },
    {
      "cell_type": "markdown",
      "metadata": {
        "id": "HI_VXDnI1_O7",
        "colab_type": "text"
      },
      "source": [
        "// IMPROVING MODEL BY ADDING ANCHORING WORDS\n",
        "\n",
        "// ADDING ANCHOR WORD NASA FOR THE FIRST TOPIC; ONLY THE FIRST TOPIC GETS REPLACED, REST ARE STILL IN DESCENDING ORDER OF THEIR TC SCORES"
      ]
    },
    {
      "cell_type": "code",
      "metadata": {
        "id": "o0kAsjlJ2EPP",
        "colab_type": "code",
        "colab": {}
      },
      "source": [
        "anchor_words = ['nasa']"
      ],
      "execution_count": 0,
      "outputs": []
    },
    {
      "cell_type": "code",
      "metadata": {
        "id": "V_7Z88ny3TOM",
        "colab_type": "code",
        "colab": {}
      },
      "source": [
        "anchored_topic_model =  ct.Corex(n_hidden=50, seed=2)\n",
        "anchored_topic_model.fit(doc_word, words=words, anchors=anchor_words, anchor_strength=6);\n"
      ],
      "execution_count": 0,
      "outputs": []
    },
    {
      "cell_type": "markdown",
      "metadata": {
        "id": "sOmOWTgU4TNM",
        "colab_type": "text"
      },
      "source": [
        "// NOW THE TOPIC BECOMES NASA. ALL THE WORDS RELATED TO NASA ARE PRINTED. USE THIS FOR NRC/CAA SPECIFIC WORDS. WE USE THESE WORDS TO FORM WORD CLOUD"
      ]
    },
    {
      "cell_type": "code",
      "metadata": {
        "id": "s8GDqJBv2D_H",
        "colab_type": "code",
        "colab": {
          "base_uri": "https://localhost:8080/",
          "height": 34
        },
        "outputId": "af0122a2-b09e-4f49-b386-f882c7b00573"
      },
      "source": [
        "topic_words,_ = zip(*anchored_topic_model.get_topics(topic=0))\n",
        "print('0: ' + ','.join(topic_words))\n"
      ],
      "execution_count": 11,
      "outputs": [
        {
          "output_type": "stream",
          "text": [
            "0: nasa,gov,ames,institute,jpl,station,propulsion,jsc,arc,shafer\n"
          ],
          "name": "stdout"
        }
      ]
    },
    {
      "cell_type": "markdown",
      "metadata": {
        "id": "XL-g-k0e5Qty",
        "colab_type": "text"
      },
      "source": [
        "// SET ANCHOR WORDS LIKE THIS TO GET EFFECT OF NRC/CAA FOR ECONIMICS, REVENUE, POLITICS, RURAL\n",
        "\n",
        "\n",
        "\n",
        "// anchor_words = ['nrc', ['nrc', 'politics'], ['nrc', 'economy'], ['nrc','rural'],['nrc','detection']]\n",
        "\n",
        "// WE USE THIS TO SEE THE RELATED WORDS OR UNDERLYING TOPICS(WORDS) IGNORED"
      ]
    },
    {
      "cell_type": "code",
      "metadata": {
        "id": "odwsKKLg6PG1",
        "colab_type": "code",
        "colab": {}
      },
      "source": [
        "# anchor_words = ['nrc', ['nrc', 'politics'], ['nrc', 'economy'], ['nrc','rural'],['nrc','detection']]"
      ],
      "execution_count": 0,
      "outputs": []
    },
    {
      "cell_type": "code",
      "metadata": {
        "id": "3PZv65WHuTzH",
        "colab_type": "code",
        "colab": {}
      },
      "source": [
        "#for n in range(len(anchor_words)):\n",
        "    #topic_words,_ = zip(*anchored_topic_model.get_topics(topic=n))\n",
        "    #print('{}: '.format(n) + ','.join(topic_words))\n"
      ],
      "execution_count": 0,
      "outputs": []
    },
    {
      "cell_type": "markdown",
      "metadata": {
        "id": "lNk9miEb6qyl",
        "colab_type": "text"
      },
      "source": [
        ""
      ]
    },
    {
      "cell_type": "code",
      "metadata": {
        "id": "oQtYTNyh6ix4",
        "colab_type": "code",
        "colab": {
          "base_uri": "https://localhost:8080/",
          "height": 34
        },
        "outputId": "5c75cbbe-29d4-4d88-f412-201387ab8b30"
      },
      "source": [
        "# vt.vis_rep(topic_model, column_label=words, prefix='twenty')\n"
      ],
      "execution_count": 12,
      "outputs": [
        {
          "output_type": "stream",
          "text": [
            "Print topics in text file\n"
          ],
          "name": "stdout"
        }
      ]
    },
    {
      "cell_type": "code",
      "metadata": {
        "id": "aKtUTbw_6kCY",
        "colab_type": "code",
        "colab": {}
      },
      "source": [
        ""
      ],
      "execution_count": 0,
      "outputs": []
    }
  ]
}